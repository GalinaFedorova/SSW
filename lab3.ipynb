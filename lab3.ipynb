import pandas as pd

url = 'http://www.st-petersburg.vybory.izbirkom.ru/region/region/st-petersburg?action=show&root=178402512&tvd=27820001217443&vrn=27820001217413&region=78&global=&sub_region=78&prver=0&pronetvd=null&vibid=27820001217443&type=222'
page = pd.read_html(url, encoding = 'cp1251')[7].drop(12).T
header = ['Номер УИК','Количество избирателей','% явки','% за Амосова','% за Беглова','% за Тихонову']
table = [[None for i in range(page.shape[0])]for j in range(6)]
table = pd.DataFrame(table).T
header = pd.DataFrame(header).T.iloc[0]
table = table.rename(columns = header)

for i in range(page.shape[0]):
    table.iloc[i,0] = page.iloc[i,0] #номер УИК
    table.iloc[i,1] = int(page.iloc[i,1]) #колчество избирателей
    table.iloc[i,2] = round((int(page.iloc[i,3])+int(page.iloc[i,4]))*100/int(page.iloc[i,1]),2) #процент явки
    for j in range(3,6):
        table.iloc[i,j] = float(page.iloc[i,j+9].split()[1].split("%")[0]) #процент голосов за кадидатов
table
